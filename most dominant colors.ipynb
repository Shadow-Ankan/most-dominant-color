{
 "cells": [
  {
   "cell_type": "markdown",
   "id": "f8898031",
   "metadata": {},
   "source": [
    "## Importing required packages"
   ]
  },
  {
   "cell_type": "code",
   "execution_count": 281,
   "id": "75b52ca0",
   "metadata": {},
   "outputs": [],
   "source": [
    "import cv2\n",
    "import numpy as np\n",
    "import matplotlib.pyplot as plt\n",
    "from sklearn.cluster import KMeans"
   ]
  },
  {
   "cell_type": "markdown",
   "id": "4869ebea",
   "metadata": {},
   "source": [
    "## Defining image path and no. of clusters needed"
   ]
  },
  {
   "cell_type": "code",
   "execution_count": 282,
   "id": "33e39dc1",
   "metadata": {},
   "outputs": [],
   "source": [
    "img_path = 'images/5.png'\n",
    "clusters = 10 # try changing it"
   ]
  },
  {
   "cell_type": "code",
   "execution_count": 283,
   "id": "363c13eb",
   "metadata": {},
   "outputs": [],
   "source": [
    "def show(image):\n",
    "    cv2.imshow('img',image)\n",
    "    cv2.waitKey(0)\n",
    "    cv2.destroyAllWindows()"
   ]
  },
  {
   "cell_type": "markdown",
   "id": "c9a616f5",
   "metadata": {},
   "source": [
    "## Reading the image, resizing it and flattening it"
   ]
  },
  {
   "cell_type": "code",
   "execution_count": 284,
   "id": "cf188e73",
   "metadata": {},
   "outputs": [
    {
     "name": "stdout",
     "output_type": "stream",
     "text": [
      "Org image shape -->  (400, 600, 3)\n",
      "After resizing shape -->  (133, 200, 3)\n",
      "After Flattening shape -->  (26600, 3)\n"
     ]
    }
   ],
   "source": [
    "img = cv2.imread(img_path)\n",
    "# show(img)\n",
    "print('Org image shape --> ',img.shape)\n",
    "\n",
    "rows = 200\n",
    "cols = int((img.shape[0]/img.shape[1])*rows)\n",
    "\n",
    "img = cv2.resize(img,dsize=(rows,cols),interpolation=cv2.INTER_LINEAR)\n",
    "# show(img)\n",
    "print('After resizing shape --> ',img.shape)\n",
    "\n",
    "\n",
    "flat_img = np.reshape(img,(-1,3))\n",
    "print('After Flattening shape --> ',flat_img.shape)"
   ]
  },
  {
   "cell_type": "markdown",
   "id": "7d785ebb",
   "metadata": {},
   "source": [
    "### Declaring KMeans Clustering Algorithm for clustering the pixels present in the image."
   ]
  },
  {
   "cell_type": "code",
   "execution_count": 285,
   "id": "87c393b2",
   "metadata": {},
   "outputs": [
    {
     "data": {
      "text/plain": [
       "KMeans(algorithm='auto', copy_x=True, init='k-means++', max_iter=300,\n",
       "       n_clusters=10, n_init=10, n_jobs=None, precompute_distances='auto',\n",
       "       random_state=0, tol=0.0001, verbose=0)"
      ]
     },
     "execution_count": 285,
     "metadata": {},
     "output_type": "execute_result"
    }
   ],
   "source": [
    "kmeans = KMeans(n_clusters=clusters,random_state=0)\n",
    "kmeans.fit(flat_img)"
   ]
  },
  {
   "cell_type": "markdown",
   "id": "2277635c",
   "metadata": {},
   "source": [
    "### These are the cluster centers or most dominant colors."
   ]
  },
  {
   "cell_type": "code",
   "execution_count": 286,
   "id": "8c9adbe8",
   "metadata": {},
   "outputs": [
    {
     "data": {
      "text/plain": [
       "array([[ 77,  12, 228],\n",
       "       [ 50, 127,  23],\n",
       "       [213, 214,  25],\n",
       "       [ 11, 105, 219],\n",
       "       [206,  14, 213],\n",
       "       [237,  50,  49],\n",
       "       [ 64, 233,  40],\n",
       "       [ 19,  20, 149],\n",
       "       [ 22, 232, 188],\n",
       "       [129,  13,  48]], dtype=uint32)"
      ]
     },
     "execution_count": 286,
     "metadata": {},
     "output_type": "execute_result"
    }
   ],
   "source": [
    "colors = np.array(kmeans.cluster_centers_,dtype='uint')\n",
    "colors"
   ]
  },
  {
   "cell_type": "markdown",
   "id": "e8c2038e",
   "metadata": {},
   "source": [
    "### Calculating their percentages to sort them accordingly."
   ]
  },
  {
   "cell_type": "code",
   "execution_count": 287,
   "id": "0e258497",
   "metadata": {},
   "outputs": [
    {
     "data": {
      "text/plain": [
       "[(0.1324812030075188, array([237,  50,  49], dtype=uint32)),\n",
       " (0.11548872180451128, array([ 77,  12, 228], dtype=uint32)),\n",
       " (0.10981203007518797, array([ 64, 233,  40], dtype=uint32)),\n",
       " (0.10601503759398496, array([ 22, 232, 188], dtype=uint32)),\n",
       " (0.10563909774436091, array([206,  14, 213], dtype=uint32)),\n",
       " (0.10045112781954887, array([ 19,  20, 149], dtype=uint32)),\n",
       " (0.09221804511278195, array([ 11, 105, 219], dtype=uint32)),\n",
       " (0.08270676691729323, array([ 50, 127,  23], dtype=uint32)),\n",
       " (0.08229323308270677, array([213, 214,  25], dtype=uint32)),\n",
       " (0.07289473684210526, array([129,  13,  48], dtype=uint32))]"
      ]
     },
     "execution_count": 287,
     "metadata": {},
     "output_type": "execute_result"
    }
   ],
   "source": [
    "percentages = (np.unique(kmeans.labels_,return_counts=True)[1])/flat_img.shape[0]\n",
    "p_and_c = zip(percentages,colors)\n",
    "p_and_c = sorted(p_and_c,reverse=True)\n",
    "p_and_c"
   ]
  },
  {
   "cell_type": "markdown",
   "id": "e31438f1",
   "metadata": {},
   "source": [
    "## Visualizing the n (no. of clusters) most dominant colors of the image."
   ]
  },
  {
   "cell_type": "code",
   "execution_count": 288,
   "id": "dc6cc933",
   "metadata": {},
   "outputs": [
    {
     "data": {
      "image/png": "[encoded data removed]",
      "text/plain": [
       "<Figure size 864x576 with 10 Axes>"
      ]
     },
     "metadata": {},
     "output_type": "display_data"
    }
   ],
   "source": [
    "block = np.ones((50,50,3),dtype='uint')\n",
    "plt.figure(figsize=(12,8))\n",
    "for i in range(clusters):\n",
    "    plt.subplot(1,clusters,i+1)\n",
    "    block[:] = p_and_c[i][1][::-1] # we have done this to convert bgr(opencv) to rgb(matplotlib) \n",
    "    plt.imshow(block)\n",
    "    plt.xticks([])\n",
    "    plt.yticks([])\n",
    "    plt.xlabel(str(round(p_and_c[i][0]*100,2))+'%')"
   ]
  },
  {
   "cell_type": "markdown",
   "id": "4f329848",
   "metadata": {},
   "source": [
    "### Creating a bar to visualize the same."
   ]
  },
  {
   "cell_type": "code",
   "execution_count": 289,
   "id": "59ae7828",
   "metadata": {},
   "outputs": [
    {
     "data": {
      "text/plain": [
       "([], [])"
      ]
     },
     "execution_count": 289,
     "metadata": {},
     "output_type": "execute_result"
    },
    {
     "data": {
      "image/png": "[encoded data removed]",
      "text/plain": [
       "<Figure size 864x576 with 1 Axes>"
      ]
     },
     "metadata": {},
     "output_type": "display_data"
    }
   ],
   "source": [
    "bar = np.ones((50,500,3),dtype='uint')\n",
    "plt.figure(figsize=(12,8))\n",
    "plt.title('Proportions of colors in the image')\n",
    "start = 0\n",
    "i = 1\n",
    "for p,c in p_and_c:\n",
    "    end = start+int(p*bar.shape[1])\n",
    "    if i==clusters:\n",
    "        bar[:,start:] = c[::-1]\n",
    "    else:\n",
    "        bar[:,start:end] = c[::-1]\n",
    "    start = end\n",
    "    i+=1\n",
    "\n",
    "plt.imshow(bar)\n",
    "plt.xticks([])\n",
    "plt.yticks([])"
   ]
  },
  {
   "cell_type": "markdown",
   "id": "25e3631c",
   "metadata": {},
   "source": [
    "### And in the end just a nice on-image visualization which shows top 5 dominant color on the image."
   ]
  },
  {
   "cell_type": "code",
   "execution_count": 290,
   "id": "279f5d27",
   "metadata": {},
   "outputs": [],
   "source": [
    "img = cv2.imread(img_path)\n",
    "\n",
    "rows = 1000\n",
    "cols = int((img.shape[0]/img.shape[1])*rows)\n",
    "img = cv2.resize(img,dsize=(rows,cols),interpolation=cv2.INTER_LINEAR)\n",
    "\n",
    "copy = img.copy()\n",
    "cv2.rectangle(copy,(rows//2-250,cols//2-90),(rows//2+250,cols//2+110),(255,255,255),-1)\n",
    "\n",
    "final = cv2.addWeighted(img,0.1,copy,0.9,0)\n",
    "cv2.putText(final,'Most Dominant Colors in the Image',(rows//2-230,cols//2-40),cv2.FONT_HERSHEY_DUPLEX,0.8,(0,0,0),1,cv2.LINE_AA)\n",
    "\n",
    "\n",
    "start = rows//2-220\n",
    "for i in range(5):\n",
    "    end = start+70\n",
    "    final[cols//2:cols//2+70,start:end] = p_and_c[i][1]\n",
    "    cv2.putText(final,str(i+1),(start+25,cols//2+45),cv2.FONT_HERSHEY_DUPLEX,1,(255,255,255),1,cv2.LINE_AA)\n",
    "    start = end+20\n",
    "\n",
    "cv2.imwrite('output.png',final)\n",
    "show(final)"
   ]
  },
  {
   "cell_type": "code",
   "execution_count": null,
   "id": "4595652e",
   "metadata": {},
   "outputs": [],
   "source": []
  }
 ],
 "metadata": {
  "kernelspec": {
   "display_name": "Python 3",
   "language": "python",
   "name": "python3"
  },
  "language_info": {
   "codemirror_mode": {
    "name": "ipython",
    "version": 3
   },
   "file_extension": ".py",
   "mimetype": "text/x-python",
   "name": "python",
   "nbconvert_exporter": "python",
   "pygments_lexer": "ipython3",
   "version": "3.7.10"
  }
 },
 "nbformat": 4,
 "nbformat_minor": 5
}
